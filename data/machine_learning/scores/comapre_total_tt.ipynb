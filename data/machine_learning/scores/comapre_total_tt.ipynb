{
 "cells": [
  {
   "cell_type": "code",
   "execution_count": 130,
   "metadata": {},
   "outputs": [],
   "source": [
    "import pandas as pd"
   ]
  },
  {
   "cell_type": "code",
   "execution_count": 131,
   "metadata": {},
   "outputs": [],
   "source": [
    "#df=pd.read_csv('linear_regression_total_journey_tt_scores.csv')\n",
    "df=pd.read_csv('linear_regression_total_journey_tt_scores.csv')"
   ]
  },
  {
   "cell_type": "code",
   "execution_count": 132,
   "metadata": {},
   "outputs": [],
   "source": [
    "#df1=pd.read_csv('random_forest_total_journey_tt_scores.csv')\n",
    "df1=pd.read_csv('random_forest_total_journey_tt_scores.csv')"
   ]
  },
  {
   "cell_type": "code",
   "execution_count": 133,
   "metadata": {},
   "outputs": [],
   "source": [
    "df=pd.merge(df, df1, on=['route'])"
   ]
  },
  {
   "cell_type": "markdown",
   "metadata": {},
   "source": [
    "## Check for any linear regression models which produce a better error score than random forest"
   ]
  },
  {
   "cell_type": "code",
   "execution_count": 121,
   "metadata": {},
   "outputs": [
    {
     "data": {
      "text/html": [
       "<div>\n",
       "<style scoped>\n",
       "    .dataframe tbody tr th:only-of-type {\n",
       "        vertical-align: middle;\n",
       "    }\n",
       "\n",
       "    .dataframe tbody tr th {\n",
       "        vertical-align: top;\n",
       "    }\n",
       "\n",
       "    .dataframe thead th {\n",
       "        text-align: right;\n",
       "    }\n",
       "</style>\n",
       "<table border=\"1\" class=\"dataframe\">\n",
       "  <thead>\n",
       "    <tr style=\"text-align: right;\">\n",
       "      <th></th>\n",
       "      <th>route</th>\n",
       "      <th>&lt;60_x</th>\n",
       "      <th>&lt;120_x</th>\n",
       "      <th>&gt;120_x</th>\n",
       "      <th>overall_x</th>\n",
       "      <th>&lt;60_y</th>\n",
       "      <th>&lt;120_y</th>\n",
       "      <th>&gt;120_y</th>\n",
       "      <th>overall_y</th>\n",
       "    </tr>\n",
       "  </thead>\n",
       "  <tbody>\n",
       "  </tbody>\n",
       "</table>\n",
       "</div>"
      ],
      "text/plain": [
       "Empty DataFrame\n",
       "Columns: [route, <60_x, <120_x, >120_x, overall_x, <60_y, <120_y, >120_y, overall_y]\n",
       "Index: []"
      ]
     },
     "execution_count": 121,
     "metadata": {},
     "output_type": "execute_result"
    }
   ],
   "source": [
    "df.loc[df['overall_x']<df['overall_y']]"
   ]
  },
  {
   "cell_type": "code",
   "execution_count": 122,
   "metadata": {},
   "outputs": [],
   "source": [
    "scores=pd.DataFrame()\n",
    "scores['routes']=df.route\n",
    "scores['RF_diff']=df['overall_x']-df['overall_y']"
   ]
  },
  {
   "cell_type": "code",
   "execution_count": 123,
   "metadata": {},
   "outputs": [
    {
     "data": {
      "text/html": [
       "<div>\n",
       "<style scoped>\n",
       "    .dataframe tbody tr th:only-of-type {\n",
       "        vertical-align: middle;\n",
       "    }\n",
       "\n",
       "    .dataframe tbody tr th {\n",
       "        vertical-align: top;\n",
       "    }\n",
       "\n",
       "    .dataframe thead th {\n",
       "        text-align: right;\n",
       "    }\n",
       "</style>\n",
       "<table border=\"1\" class=\"dataframe\">\n",
       "  <thead>\n",
       "    <tr style=\"text-align: right;\">\n",
       "      <th></th>\n",
       "      <th>routes</th>\n",
       "      <th>RF_diff</th>\n",
       "    </tr>\n",
       "  </thead>\n",
       "  <tbody>\n",
       "    <tr>\n",
       "      <th>0</th>\n",
       "      <td>145</td>\n",
       "      <td>13928.0</td>\n",
       "    </tr>\n",
       "    <tr>\n",
       "      <th>1</th>\n",
       "      <td>14C</td>\n",
       "      <td>3149.0</td>\n",
       "    </tr>\n",
       "    <tr>\n",
       "      <th>2</th>\n",
       "      <td>14</td>\n",
       "      <td>16061.0</td>\n",
       "    </tr>\n",
       "    <tr>\n",
       "      <th>3</th>\n",
       "      <td>150</td>\n",
       "      <td>3618.0</td>\n",
       "    </tr>\n",
       "    <tr>\n",
       "      <th>4</th>\n",
       "      <td>151</td>\n",
       "      <td>9100.0</td>\n",
       "    </tr>\n",
       "  </tbody>\n",
       "</table>\n",
       "</div>"
      ],
      "text/plain": [
       "  routes  RF_diff\n",
       "0    145  13928.0\n",
       "1    14C   3149.0\n",
       "2     14  16061.0\n",
       "3    150   3618.0\n",
       "4    151   9100.0"
      ]
     },
     "execution_count": 123,
     "metadata": {},
     "output_type": "execute_result"
    }
   ],
   "source": [
    "scores.head()"
   ]
  },
  {
   "cell_type": "code",
   "execution_count": 124,
   "metadata": {
    "scrolled": false
   },
   "outputs": [
    {
     "data": {
      "text/html": [
       "<div>\n",
       "<style scoped>\n",
       "    .dataframe tbody tr th:only-of-type {\n",
       "        vertical-align: middle;\n",
       "    }\n",
       "\n",
       "    .dataframe tbody tr th {\n",
       "        vertical-align: top;\n",
       "    }\n",
       "\n",
       "    .dataframe thead th {\n",
       "        text-align: right;\n",
       "    }\n",
       "</style>\n",
       "<table border=\"1\" class=\"dataframe\">\n",
       "  <thead>\n",
       "    <tr style=\"text-align: right;\">\n",
       "      <th></th>\n",
       "      <th>routes</th>\n",
       "      <th>RF_diff</th>\n",
       "    </tr>\n",
       "  </thead>\n",
       "  <tbody>\n",
       "    <tr>\n",
       "      <th>9</th>\n",
       "      <td>16C</td>\n",
       "      <td>58.0</td>\n",
       "    </tr>\n",
       "  </tbody>\n",
       "</table>\n",
       "</div>"
      ],
      "text/plain": [
       "  routes  RF_diff\n",
       "9    16C     58.0"
      ]
     },
     "execution_count": 124,
     "metadata": {},
     "output_type": "execute_result"
    }
   ],
   "source": [
    "scores.loc[scores.RF_diff<60]"
   ]
  },
  {
   "cell_type": "code",
   "execution_count": 125,
   "metadata": {},
   "outputs": [
    {
     "data": {
      "text/html": [
       "<div>\n",
       "<style scoped>\n",
       "    .dataframe tbody tr th:only-of-type {\n",
       "        vertical-align: middle;\n",
       "    }\n",
       "\n",
       "    .dataframe tbody tr th {\n",
       "        vertical-align: top;\n",
       "    }\n",
       "\n",
       "    .dataframe thead th {\n",
       "        text-align: right;\n",
       "    }\n",
       "</style>\n",
       "<table border=\"1\" class=\"dataframe\">\n",
       "  <thead>\n",
       "    <tr style=\"text-align: right;\">\n",
       "      <th></th>\n",
       "      <th>routes</th>\n",
       "      <th>RF_diff</th>\n",
       "    </tr>\n",
       "  </thead>\n",
       "  <tbody>\n",
       "    <tr>\n",
       "      <th>9</th>\n",
       "      <td>16C</td>\n",
       "      <td>58.0</td>\n",
       "    </tr>\n",
       "  </tbody>\n",
       "</table>\n",
       "</div>"
      ],
      "text/plain": [
       "  routes  RF_diff\n",
       "9    16C     58.0"
      ]
     },
     "execution_count": 125,
     "metadata": {},
     "output_type": "execute_result"
    }
   ],
   "source": [
    "scores.loc[scores.RF_diff<300]"
   ]
  },
  {
   "cell_type": "markdown",
   "metadata": {},
   "source": [
    "## No linear regression models are better overall than random forest. I will further check for the breakdown of routes into segments."
   ]
  },
  {
   "cell_type": "code",
   "execution_count": 126,
   "metadata": {
    "scrolled": true
   },
   "outputs": [
    {
     "data": {
      "text/html": [
       "<div>\n",
       "<style scoped>\n",
       "    .dataframe tbody tr th:only-of-type {\n",
       "        vertical-align: middle;\n",
       "    }\n",
       "\n",
       "    .dataframe tbody tr th {\n",
       "        vertical-align: top;\n",
       "    }\n",
       "\n",
       "    .dataframe thead th {\n",
       "        text-align: right;\n",
       "    }\n",
       "</style>\n",
       "<table border=\"1\" class=\"dataframe\">\n",
       "  <thead>\n",
       "    <tr style=\"text-align: right;\">\n",
       "      <th></th>\n",
       "      <th>route</th>\n",
       "      <th>&lt;60_x</th>\n",
       "      <th>&lt;120_x</th>\n",
       "      <th>&gt;120_x</th>\n",
       "      <th>overall_x</th>\n",
       "      <th>&lt;60_y</th>\n",
       "      <th>&lt;120_y</th>\n",
       "      <th>&gt;120_y</th>\n",
       "      <th>overall_y</th>\n",
       "    </tr>\n",
       "  </thead>\n",
       "  <tbody>\n",
       "  </tbody>\n",
       "</table>\n",
       "</div>"
      ],
      "text/plain": [
       "Empty DataFrame\n",
       "Columns: [route, <60_x, <120_x, >120_x, overall_x, <60_y, <120_y, >120_y, overall_y]\n",
       "Index: []"
      ]
     },
     "execution_count": 126,
     "metadata": {},
     "output_type": "execute_result"
    }
   ],
   "source": [
    "df.loc[(df['<60_x']<df['<60_y']) & (df['<60_x'].notnull())]"
   ]
  },
  {
   "cell_type": "code",
   "execution_count": 127,
   "metadata": {},
   "outputs": [
    {
     "data": {
      "text/html": [
       "<div>\n",
       "<style scoped>\n",
       "    .dataframe tbody tr th:only-of-type {\n",
       "        vertical-align: middle;\n",
       "    }\n",
       "\n",
       "    .dataframe tbody tr th {\n",
       "        vertical-align: top;\n",
       "    }\n",
       "\n",
       "    .dataframe thead th {\n",
       "        text-align: right;\n",
       "    }\n",
       "</style>\n",
       "<table border=\"1\" class=\"dataframe\">\n",
       "  <thead>\n",
       "    <tr style=\"text-align: right;\">\n",
       "      <th></th>\n",
       "      <th>route</th>\n",
       "      <th>&lt;60_x</th>\n",
       "      <th>&lt;120_x</th>\n",
       "      <th>&gt;120_x</th>\n",
       "      <th>overall_x</th>\n",
       "      <th>&lt;60_y</th>\n",
       "      <th>&lt;120_y</th>\n",
       "      <th>&gt;120_y</th>\n",
       "      <th>overall_y</th>\n",
       "    </tr>\n",
       "  </thead>\n",
       "  <tbody>\n",
       "    <tr>\n",
       "      <th>9</th>\n",
       "      <td>16C</td>\n",
       "      <td>300.0</td>\n",
       "      <td>1041.0</td>\n",
       "      <td>NaN</td>\n",
       "      <td>302.0</td>\n",
       "      <td>241.0</td>\n",
       "      <td>1358.0</td>\n",
       "      <td>NaN</td>\n",
       "      <td>244.0</td>\n",
       "    </tr>\n",
       "    <tr>\n",
       "      <th>18</th>\n",
       "      <td>130</td>\n",
       "      <td>4114.0</td>\n",
       "      <td>2157.0</td>\n",
       "      <td>NaN</td>\n",
       "      <td>4105.0</td>\n",
       "      <td>237.0</td>\n",
       "      <td>2171.0</td>\n",
       "      <td>NaN</td>\n",
       "      <td>238.0</td>\n",
       "    </tr>\n",
       "    <tr>\n",
       "      <th>67</th>\n",
       "      <td>44B</td>\n",
       "      <td>1698.0</td>\n",
       "      <td>1949.0</td>\n",
       "      <td>NaN</td>\n",
       "      <td>1694.0</td>\n",
       "      <td>323.0</td>\n",
       "      <td>3703.0</td>\n",
       "      <td>NaN</td>\n",
       "      <td>329.0</td>\n",
       "    </tr>\n",
       "  </tbody>\n",
       "</table>\n",
       "</div>"
      ],
      "text/plain": [
       "   route   <60_x  <120_x  >120_x  overall_x  <60_y  <120_y  >120_y  overall_y\n",
       "9    16C   300.0  1041.0     NaN      302.0  241.0  1358.0     NaN      244.0\n",
       "18   130  4114.0  2157.0     NaN     4105.0  237.0  2171.0     NaN      238.0\n",
       "67   44B  1698.0  1949.0     NaN     1694.0  323.0  3703.0     NaN      329.0"
      ]
     },
     "execution_count": 127,
     "metadata": {},
     "output_type": "execute_result"
    }
   ],
   "source": [
    "df.loc[(df['<120_x']<df['<120_y'])& (df['<120_x'].notnull())]"
   ]
  },
  {
   "cell_type": "code",
   "execution_count": 128,
   "metadata": {},
   "outputs": [
    {
     "data": {
      "text/html": [
       "<div>\n",
       "<style scoped>\n",
       "    .dataframe tbody tr th:only-of-type {\n",
       "        vertical-align: middle;\n",
       "    }\n",
       "\n",
       "    .dataframe tbody tr th {\n",
       "        vertical-align: top;\n",
       "    }\n",
       "\n",
       "    .dataframe thead th {\n",
       "        text-align: right;\n",
       "    }\n",
       "</style>\n",
       "<table border=\"1\" class=\"dataframe\">\n",
       "  <thead>\n",
       "    <tr style=\"text-align: right;\">\n",
       "      <th></th>\n",
       "      <th>route</th>\n",
       "      <th>&lt;60_x</th>\n",
       "      <th>&lt;120_x</th>\n",
       "      <th>&gt;120_x</th>\n",
       "      <th>overall_x</th>\n",
       "      <th>&lt;60_y</th>\n",
       "      <th>&lt;120_y</th>\n",
       "      <th>&gt;120_y</th>\n",
       "      <th>overall_y</th>\n",
       "    </tr>\n",
       "  </thead>\n",
       "  <tbody>\n",
       "    <tr>\n",
       "      <th>3</th>\n",
       "      <td>150</td>\n",
       "      <td>3989.0</td>\n",
       "      <td>3050.0</td>\n",
       "      <td>1616.0</td>\n",
       "      <td>3930.0</td>\n",
       "      <td>282.0</td>\n",
       "      <td>1103.0</td>\n",
       "      <td>5740.0</td>\n",
       "      <td>312.0</td>\n",
       "    </tr>\n",
       "    <tr>\n",
       "      <th>17</th>\n",
       "      <td>123</td>\n",
       "      <td>9818.0</td>\n",
       "      <td>10108.0</td>\n",
       "      <td>3139.0</td>\n",
       "      <td>9926.0</td>\n",
       "      <td>261.0</td>\n",
       "      <td>551.0</td>\n",
       "      <td>6737.0</td>\n",
       "      <td>403.0</td>\n",
       "    </tr>\n",
       "    <tr>\n",
       "      <th>24</th>\n",
       "      <td>1</td>\n",
       "      <td>8533.0</td>\n",
       "      <td>8128.0</td>\n",
       "      <td>3078.0</td>\n",
       "      <td>8423.0</td>\n",
       "      <td>292.0</td>\n",
       "      <td>621.0</td>\n",
       "      <td>6366.0</td>\n",
       "      <td>370.0</td>\n",
       "    </tr>\n",
       "    <tr>\n",
       "      <th>32</th>\n",
       "      <td>27B</td>\n",
       "      <td>5524.0</td>\n",
       "      <td>5093.0</td>\n",
       "      <td>1575.0</td>\n",
       "      <td>5451.0</td>\n",
       "      <td>250.0</td>\n",
       "      <td>695.0</td>\n",
       "      <td>6945.0</td>\n",
       "      <td>294.0</td>\n",
       "    </tr>\n",
       "    <tr>\n",
       "      <th>42</th>\n",
       "      <td>33D</td>\n",
       "      <td>5364.0</td>\n",
       "      <td>4937.0</td>\n",
       "      <td>898.0</td>\n",
       "      <td>5130.0</td>\n",
       "      <td>264.0</td>\n",
       "      <td>610.0</td>\n",
       "      <td>4090.0</td>\n",
       "      <td>457.0</td>\n",
       "    </tr>\n",
       "    <tr>\n",
       "      <th>55</th>\n",
       "      <td>40D</td>\n",
       "      <td>5832.0</td>\n",
       "      <td>5190.0</td>\n",
       "      <td>1713.0</td>\n",
       "      <td>5745.0</td>\n",
       "      <td>236.0</td>\n",
       "      <td>604.0</td>\n",
       "      <td>7699.0</td>\n",
       "      <td>277.0</td>\n",
       "    </tr>\n",
       "    <tr>\n",
       "      <th>62</th>\n",
       "      <td>41</td>\n",
       "      <td>8541.0</td>\n",
       "      <td>8380.0</td>\n",
       "      <td>3855.0</td>\n",
       "      <td>8389.0</td>\n",
       "      <td>428.0</td>\n",
       "      <td>607.0</td>\n",
       "      <td>5799.0</td>\n",
       "      <td>520.0</td>\n",
       "    </tr>\n",
       "    <tr>\n",
       "      <th>65</th>\n",
       "      <td>42</td>\n",
       "      <td>8785.0</td>\n",
       "      <td>8429.0</td>\n",
       "      <td>2953.0</td>\n",
       "      <td>8607.0</td>\n",
       "      <td>276.0</td>\n",
       "      <td>483.0</td>\n",
       "      <td>5787.0</td>\n",
       "      <td>333.0</td>\n",
       "    </tr>\n",
       "    <tr>\n",
       "      <th>72</th>\n",
       "      <td>49</td>\n",
       "      <td>7563.0</td>\n",
       "      <td>7062.0</td>\n",
       "      <td>3265.0</td>\n",
       "      <td>7293.0</td>\n",
       "      <td>305.0</td>\n",
       "      <td>580.0</td>\n",
       "      <td>4354.0</td>\n",
       "      <td>445.0</td>\n",
       "    </tr>\n",
       "    <tr>\n",
       "      <th>77</th>\n",
       "      <td>54A</td>\n",
       "      <td>6588.0</td>\n",
       "      <td>6037.0</td>\n",
       "      <td>2070.0</td>\n",
       "      <td>6293.0</td>\n",
       "      <td>296.0</td>\n",
       "      <td>531.0</td>\n",
       "      <td>4440.0</td>\n",
       "      <td>416.0</td>\n",
       "    </tr>\n",
       "    <tr>\n",
       "      <th>102</th>\n",
       "      <td>7</td>\n",
       "      <td>7815.0</td>\n",
       "      <td>7332.0</td>\n",
       "      <td>4001.0</td>\n",
       "      <td>7413.0</td>\n",
       "      <td>386.0</td>\n",
       "      <td>716.0</td>\n",
       "      <td>4194.0</td>\n",
       "      <td>644.0</td>\n",
       "    </tr>\n",
       "  </tbody>\n",
       "</table>\n",
       "</div>"
      ],
      "text/plain": [
       "    route   <60_x   <120_x  >120_x  overall_x  <60_y  <120_y  >120_y  \\\n",
       "3     150  3989.0   3050.0  1616.0     3930.0  282.0  1103.0  5740.0   \n",
       "17    123  9818.0  10108.0  3139.0     9926.0  261.0   551.0  6737.0   \n",
       "24      1  8533.0   8128.0  3078.0     8423.0  292.0   621.0  6366.0   \n",
       "32    27B  5524.0   5093.0  1575.0     5451.0  250.0   695.0  6945.0   \n",
       "42    33D  5364.0   4937.0   898.0     5130.0  264.0   610.0  4090.0   \n",
       "55    40D  5832.0   5190.0  1713.0     5745.0  236.0   604.0  7699.0   \n",
       "62     41  8541.0   8380.0  3855.0     8389.0  428.0   607.0  5799.0   \n",
       "65     42  8785.0   8429.0  2953.0     8607.0  276.0   483.0  5787.0   \n",
       "72     49  7563.0   7062.0  3265.0     7293.0  305.0   580.0  4354.0   \n",
       "77    54A  6588.0   6037.0  2070.0     6293.0  296.0   531.0  4440.0   \n",
       "102     7  7815.0   7332.0  4001.0     7413.0  386.0   716.0  4194.0   \n",
       "\n",
       "     overall_y  \n",
       "3        312.0  \n",
       "17       403.0  \n",
       "24       370.0  \n",
       "32       294.0  \n",
       "42       457.0  \n",
       "55       277.0  \n",
       "62       520.0  \n",
       "65       333.0  \n",
       "72       445.0  \n",
       "77       416.0  \n",
       "102      644.0  "
      ]
     },
     "execution_count": 128,
     "metadata": {},
     "output_type": "execute_result"
    }
   ],
   "source": [
    "df.loc[(df['>120_x']<df['>120_y'])& (df['>120_x'].notnull())]"
   ]
  },
  {
   "cell_type": "markdown",
   "metadata": {},
   "source": [
    "There are a few routes where the linear regression performs better than random forest for longer distance travel time predictions. For journeys longer than 2 hours, linear regression performs significantly better for the above routes."
   ]
  },
  {
   "cell_type": "code",
   "execution_count": null,
   "metadata": {},
   "outputs": [],
   "source": []
  }
 ],
 "metadata": {
  "kernelspec": {
   "display_name": "Python 3",
   "language": "python",
   "name": "python3"
  },
  "language_info": {
   "codemirror_mode": {
    "name": "ipython",
    "version": 3
   },
   "file_extension": ".py",
   "mimetype": "text/x-python",
   "name": "python",
   "nbconvert_exporter": "python",
   "pygments_lexer": "ipython3",
   "version": "3.7.3"
  }
 },
 "nbformat": 4,
 "nbformat_minor": 2
}
